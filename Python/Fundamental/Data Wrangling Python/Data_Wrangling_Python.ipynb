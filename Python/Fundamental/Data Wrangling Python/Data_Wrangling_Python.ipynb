{
  "nbformat": 4,
  "nbformat_minor": 0,
  "metadata": {
    "colab": {
      "name": "Data Wrangling Python.ipynb",
      "provenance": []
    },
    "kernelspec": {
      "name": "python3",
      "display_name": "Python 3"
    },
    "language_info": {
      "name": "python"
    }
  },
  "cells": [
    {
      "cell_type": "markdown",
      "metadata": {
        "id": "5yG0tr3DOUd9"
      },
      "source": [
        "# **Membaca file dengan menggunakan pandas**"
      ]
    },
    {
      "cell_type": "code",
      "metadata": {
        "colab": {
          "base_uri": "https://localhost:8080/"
        },
        "id": "JD9C3lTZOxKQ",
        "outputId": "dafc2e04-b0a6-4436-e143-09c501f04e36"
      },
      "source": [
        "import pandas as pd\n",
        "\n",
        "csv_data = pd.read_csv(\"https://storage.googleapis.com/dqlab-dataset/shopping_data.csv\")\n",
        "\n",
        "print(csv_data)"
      ],
      "execution_count": 1,
      "outputs": [
        {
          "output_type": "stream",
          "text": [
            "     CustomerID   Genre  Age  Annual Income (k$)  Spending Score (1-100)\n",
            "0             1    Male   19                  15                      39\n",
            "1             2    Male   21                  15                      81\n",
            "2             3  Female   20                  16                       6\n",
            "3             4  Female   23                  16                      77\n",
            "4             5  Female   31                  17                      40\n",
            "..          ...     ...  ...                 ...                     ...\n",
            "195         196  Female   35                 120                      79\n",
            "196         197  Female   45                 126                      28\n",
            "197         198    Male   32                 126                      74\n",
            "198         199    Male   32                 137                      18\n",
            "199         200    Male   30                 137                      83\n",
            "\n",
            "[200 rows x 5 columns]\n"
          ],
          "name": "stdout"
        }
      ]
    },
    {
      "cell_type": "markdown",
      "metadata": {
        "id": "gTvzq2ZPRlRU"
      },
      "source": [
        "\n",
        "\n",
        "---\n",
        "\n"
      ]
    },
    {
      "cell_type": "markdown",
      "metadata": {
        "id": "vOkS6ruvO6yI"
      },
      "source": [
        "\n",
        "# **Membaca file dengan menggunakan head()**"
      ]
    },
    {
      "cell_type": "code",
      "metadata": {
        "colab": {
          "base_uri": "https://localhost:8080/"
        },
        "id": "mAVI2ZzHPB_5",
        "outputId": "a643b905-2c96-4fed-e872-e2783881eadd"
      },
      "source": [
        "import pandas as pd\n",
        "\n",
        "csv_data = pd.read_csv(\"https://storage.googleapis.com/dqlab-dataset/shopping_data.csv\")\n",
        "\n",
        "print(csv_data.head())"
      ],
      "execution_count": 2,
      "outputs": [
        {
          "output_type": "stream",
          "text": [
            "   CustomerID   Genre  Age  Annual Income (k$)  Spending Score (1-100)\n",
            "0           1    Male   19                  15                      39\n",
            "1           2    Male   21                  15                      81\n",
            "2           3  Female   20                  16                       6\n",
            "3           4  Female   23                  16                      77\n",
            "4           5  Female   31                  17                      40\n"
          ],
          "name": "stdout"
        }
      ]
    },
    {
      "cell_type": "markdown",
      "metadata": {
        "id": "8o-MepmPRjZR"
      },
      "source": [
        "\n",
        "\n",
        "---\n",
        "\n"
      ]
    },
    {
      "cell_type": "markdown",
      "metadata": {
        "id": "ivhLjW9PPTBn"
      },
      "source": [
        "# **Melakukan akses data kolom**"
      ]
    },
    {
      "cell_type": "code",
      "metadata": {
        "colab": {
          "base_uri": "https://localhost:8080/"
        },
        "id": "cVvlT7HWPVTG",
        "outputId": "5fffe093-8406-47d3-d3d3-518007f99466"
      },
      "source": [
        "import pandas as pd\n",
        "\n",
        "csv_data = pd.read_csv(\"https://storage.googleapis.com/dqlab-dataset/shopping_data.csv\")\n",
        "\n",
        "print(csv_data['Age'])"
      ],
      "execution_count": 3,
      "outputs": [
        {
          "output_type": "stream",
          "text": [
            "0      19\n",
            "1      21\n",
            "2      20\n",
            "3      23\n",
            "4      31\n",
            "       ..\n",
            "195    35\n",
            "196    45\n",
            "197    32\n",
            "198    32\n",
            "199    30\n",
            "Name: Age, Length: 200, dtype: int64\n"
          ],
          "name": "stdout"
        }
      ]
    },
    {
      "cell_type": "markdown",
      "metadata": {
        "id": "dNtTl_R6RHLd"
      },
      "source": [
        "\n",
        "\n",
        "---\n",
        "\n"
      ]
    },
    {
      "cell_type": "markdown",
      "metadata": {
        "id": "5caDyHNGPsZ8"
      },
      "source": [
        "# **Melakukan akses data melalui baris**"
      ]
    },
    {
      "cell_type": "code",
      "metadata": {
        "colab": {
          "base_uri": "https://localhost:8080/"
        },
        "id": "cMbmqAZzPzvD",
        "outputId": "175a47c3-b646-4b1f-d085-4395a94c4127"
      },
      "source": [
        "import pandas as pd\n",
        "\n",
        "csv_data = pd.read_csv(\"https://storage.googleapis.com/dqlab-dataset/shopping_data.csv\")\n",
        "\n",
        "print(csv_data.iloc[5])"
      ],
      "execution_count": 4,
      "outputs": [
        {
          "output_type": "stream",
          "text": [
            "CustomerID                     6\n",
            "Genre                     Female\n",
            "Age                           22\n",
            "Annual Income (k$)            17\n",
            "Spending Score (1-100)        76\n",
            "Name: 5, dtype: object\n"
          ],
          "name": "stdout"
        }
      ]
    },
    {
      "cell_type": "markdown",
      "metadata": {
        "id": "WA8LjVFmRF44"
      },
      "source": [
        "---"
      ]
    },
    {
      "cell_type": "markdown",
      "metadata": {
        "id": "AmNGesk0P6cU"
      },
      "source": [
        "# **Menampilkan suatu data dari baris dan kolom tertentu**"
      ]
    },
    {
      "cell_type": "code",
      "metadata": {
        "colab": {
          "base_uri": "https://localhost:8080/"
        },
        "id": "b1ALuKvaP-XY",
        "outputId": "a8dd34b1-8eeb-487f-c0ef-1a58d8642912"
      },
      "source": [
        "import pandas as pd\n",
        "\n",
        "csv_data = pd.read_csv(\"https://storage.googleapis.com/dqlab-dataset/shopping_data.csv\")\n",
        "\n",
        "print(csv_data['Age'].iloc[1])\n",
        "\n",
        "print(\"Cuplikan Dataset:\")\n",
        "\n",
        "print(csv_data.head())"
      ],
      "execution_count": 5,
      "outputs": [
        {
          "output_type": "stream",
          "text": [
            "21\n",
            "Cuplikan Dataset:\n",
            "   CustomerID   Genre  Age  Annual Income (k$)  Spending Score (1-100)\n",
            "0           1    Male   19                  15                      39\n",
            "1           2    Male   21                  15                      81\n",
            "2           3  Female   20                  16                       6\n",
            "3           4  Female   23                  16                      77\n",
            "4           5  Female   31                  17                      40\n"
          ],
          "name": "stdout"
        }
      ]
    },
    {
      "cell_type": "markdown",
      "metadata": {
        "id": "4UzOnmn0RDMy"
      },
      "source": [
        "---"
      ]
    },
    {
      "cell_type": "markdown",
      "metadata": {
        "id": "rYZubwc0QBJC"
      },
      "source": [
        "# **Menampilkan data dalam range tertentu**"
      ]
    },
    {
      "cell_type": "code",
      "metadata": {
        "colab": {
          "base_uri": "https://localhost:8080/"
        },
        "id": "UaXVLAqGQQ-e",
        "outputId": "0deedd6e-b577-48ea-b8ea-6a2b2b8739fc"
      },
      "source": [
        "import pandas as pd\n",
        "\n",
        "csv_data = pd.read_csv(\"https://storage.googleapis.com/dqlab-dataset/shopping_data.csv\")\n",
        "\n",
        "print(\"Menampilkan data ke 5 sampai kurang dari 10 dalam satu baris:\")\n",
        "\n",
        "print(csv_data.iloc[5:10])"
      ],
      "execution_count": 6,
      "outputs": [
        {
          "output_type": "stream",
          "text": [
            "Menampilkan data ke 5 sampai kurang dari 10 dalam satu baris:\n",
            "   CustomerID   Genre  Age  Annual Income (k$)  Spending Score (1-100)\n",
            "5           6  Female   22                  17                      76\n",
            "6           7  Female   35                  18                       6\n",
            "7           8  Female   23                  18                      94\n",
            "8           9    Male   64                  19                       3\n",
            "9          10  Female   30                  19                      72\n"
          ],
          "name": "stdout"
        }
      ]
    },
    {
      "cell_type": "markdown",
      "metadata": {
        "id": "T1T2S1UwRAdw"
      },
      "source": [
        "---"
      ]
    },
    {
      "cell_type": "markdown",
      "metadata": {
        "id": "Ce301H7SQUW3"
      },
      "source": [
        "# **Menampilkan informasi statistik dengan Numpy**"
      ]
    },
    {
      "cell_type": "code",
      "metadata": {
        "colab": {
          "base_uri": "https://localhost:8080/"
        },
        "id": "Z5QJb9TpQaWg",
        "outputId": "fb00ec78-3309-4e1f-92f7-239de4051088"
      },
      "source": [
        "import pandas as pd\n",
        "\n",
        "csv_data = pd.read_csv(\"https://storage.googleapis.com/dqlab-dataset/shopping_data.csv\")\n",
        "\n",
        "print(csv_data.describe(exclude=['O']))"
      ],
      "execution_count": 7,
      "outputs": [
        {
          "output_type": "stream",
          "text": [
            "       CustomerID         Age  Annual Income (k$)  Spending Score (1-100)\n",
            "count  200.000000  200.000000          200.000000              200.000000\n",
            "mean   100.500000   38.850000           60.560000               50.200000\n",
            "std     57.879185   13.969007           26.264721               25.823522\n",
            "min      1.000000   18.000000           15.000000                1.000000\n",
            "25%     50.750000   28.750000           41.500000               34.750000\n",
            "50%    100.500000   36.000000           61.500000               50.000000\n",
            "75%    150.250000   49.000000           78.000000               73.000000\n",
            "max    200.000000   70.000000          137.000000               99.000000\n"
          ],
          "name": "stdout"
        }
      ]
    },
    {
      "cell_type": "markdown",
      "metadata": {
        "id": "Pk14jaN3Q8Ih"
      },
      "source": [
        "---"
      ]
    },
    {
      "cell_type": "markdown",
      "metadata": {
        "id": "X7G89a0rQdQK"
      },
      "source": [
        "# **Melakukan pengecekan untuk nilai NULL yang ada**"
      ]
    },
    {
      "cell_type": "code",
      "metadata": {
        "colab": {
          "base_uri": "https://localhost:8080/"
        },
        "id": "27hdyO0RRwBM",
        "outputId": "445928f9-80bb-4f73-af23-127e08f9845f"
      },
      "source": [
        "import pandas as pd\n",
        "\n",
        "csv_data = pd.read_csv(\"https://storage.googleapis.com/dqlab-dataset/shopping_data_missingvalue.csv\")\n",
        "\n",
        "print(csv_data.isnull().values.any())"
      ],
      "execution_count": 8,
      "outputs": [
        {
          "output_type": "stream",
          "text": [
            "True\n"
          ],
          "name": "stdout"
        }
      ]
    },
    {
      "cell_type": "markdown",
      "metadata": {
        "id": "VJ5GJJR3Twxt"
      },
      "source": [
        "\n",
        "\n",
        "---\n",
        "\n"
      ]
    },
    {
      "cell_type": "markdown",
      "metadata": {
        "id": "4AyjMbSYSPOJ"
      },
      "source": [
        "# **Mengisi dengan Mean**"
      ]
    },
    {
      "cell_type": "code",
      "metadata": {
        "colab": {
          "base_uri": "https://localhost:8080/"
        },
        "id": "6mZqWn1ISUjx",
        "outputId": "fab87e0f-97e4-4d81-ef47-3085ea5d8987"
      },
      "source": [
        "import pandas as pd\n",
        "\n",
        "csv_data = pd.read_csv(\"https://storage.googleapis.com/dqlab-dataset/shopping_data_missingvalue.csv\")\n",
        "print(csv_data.mean())\n",
        "print(\"Dataset yang masih terdapat nilai kosong ! :\")\n",
        "print(csv_data.head(10))\n",
        "\n",
        "csv_data=csv_data.fillna(csv_data.mean())\n",
        "print(\"Dataset yang sudah diproses Handling Missing Values dengan Mean :\")\n",
        "print(csv_data.head(10))"
      ],
      "execution_count": 9,
      "outputs": [
        {
          "output_type": "stream",
          "text": [
            "CustomerID                100.500000\n",
            "Age                        38.939698\n",
            "Annual Income (k$)         61.005051\n",
            "Spending Score (1-100)     50.489899\n",
            "dtype: float64\n",
            "Dataset yang masih terdapat nilai kosong ! :\n",
            "   CustomerID   Genre   Age  Annual Income (k$)  Spending Score (1-100)\n",
            "0           1    Male  19.0                15.0                    39.0\n",
            "1           2    Male   NaN                15.0                    81.0\n",
            "2           3  Female  20.0                 NaN                     6.0\n",
            "3           4  Female  23.0                16.0                    77.0\n",
            "4           5  Female  31.0                17.0                     NaN\n",
            "5           6  Female  22.0                 NaN                    76.0\n",
            "6           7  Female  35.0                18.0                     6.0\n",
            "7           8  Female  23.0                18.0                    94.0\n",
            "8           9    Male  64.0                19.0                     NaN\n",
            "9          10  Female  30.0                19.0                    72.0\n",
            "Dataset yang sudah diproses Handling Missing Values dengan Mean :\n",
            "   CustomerID   Genre        Age  Annual Income (k$)  Spending Score (1-100)\n",
            "0           1    Male  19.000000           15.000000               39.000000\n",
            "1           2    Male  38.939698           15.000000               81.000000\n",
            "2           3  Female  20.000000           61.005051                6.000000\n",
            "3           4  Female  23.000000           16.000000               77.000000\n",
            "4           5  Female  31.000000           17.000000               50.489899\n",
            "5           6  Female  22.000000           61.005051               76.000000\n",
            "6           7  Female  35.000000           18.000000                6.000000\n",
            "7           8  Female  23.000000           18.000000               94.000000\n",
            "8           9    Male  64.000000           19.000000               50.489899\n",
            "9          10  Female  30.000000           19.000000               72.000000\n"
          ],
          "name": "stdout"
        }
      ]
    },
    {
      "cell_type": "markdown",
      "metadata": {
        "id": "9KpnnHzfTyvi"
      },
      "source": [
        "\n",
        "\n",
        "---\n",
        "\n"
      ]
    },
    {
      "cell_type": "markdown",
      "metadata": {
        "id": "Cbi83l9-ScPi"
      },
      "source": [
        "# **Mengisi dengan Median**"
      ]
    },
    {
      "cell_type": "code",
      "metadata": {
        "colab": {
          "base_uri": "https://localhost:8080/"
        },
        "id": "OEizQXdmSkHU",
        "outputId": "2afda2a7-0207-41d3-c551-c6d3548f05de"
      },
      "source": [
        "import pandas as pd\n",
        "\n",
        "csv_data = pd.read_csv(\"https://storage.googleapis.com/dqlab-dataset/shopping_data_missingvalue.csv\")\n",
        "print(\"Dataset yang masih terdapat nilai kosong ! :\")\n",
        "print(csv_data.head(10))\n",
        "\n",
        "csv_data=csv_data.fillna(csv_data.median())\n",
        "print(\"Dataset yang sudah diproses Handling Missing Values dengan Median :\")\n",
        "print(csv_data.head(10))"
      ],
      "execution_count": 10,
      "outputs": [
        {
          "output_type": "stream",
          "text": [
            "Dataset yang masih terdapat nilai kosong ! :\n",
            "   CustomerID   Genre   Age  Annual Income (k$)  Spending Score (1-100)\n",
            "0           1    Male  19.0                15.0                    39.0\n",
            "1           2    Male   NaN                15.0                    81.0\n",
            "2           3  Female  20.0                 NaN                     6.0\n",
            "3           4  Female  23.0                16.0                    77.0\n",
            "4           5  Female  31.0                17.0                     NaN\n",
            "5           6  Female  22.0                 NaN                    76.0\n",
            "6           7  Female  35.0                18.0                     6.0\n",
            "7           8  Female  23.0                18.0                    94.0\n",
            "8           9    Male  64.0                19.0                     NaN\n",
            "9          10  Female  30.0                19.0                    72.0\n",
            "Dataset yang sudah diproses Handling Missing Values dengan Median :\n",
            "   CustomerID   Genre   Age  Annual Income (k$)  Spending Score (1-100)\n",
            "0           1    Male  19.0                15.0                    39.0\n",
            "1           2    Male  36.0                15.0                    81.0\n",
            "2           3  Female  20.0                62.0                     6.0\n",
            "3           4  Female  23.0                16.0                    77.0\n",
            "4           5  Female  31.0                17.0                    50.0\n",
            "5           6  Female  22.0                62.0                    76.0\n",
            "6           7  Female  35.0                18.0                     6.0\n",
            "7           8  Female  23.0                18.0                    94.0\n",
            "8           9    Male  64.0                19.0                    50.0\n",
            "9          10  Female  30.0                19.0                    72.0\n"
          ],
          "name": "stdout"
        }
      ]
    },
    {
      "cell_type": "markdown",
      "metadata": {
        "id": "o2ha4Y3rT0GY"
      },
      "source": [
        "\n",
        "\n",
        "---\n",
        "\n"
      ]
    },
    {
      "cell_type": "markdown",
      "metadata": {
        "id": "le-sMb8ySxOv"
      },
      "source": [
        "# **Praktek Normalisasi menggunakan Scikit Learn pada Python**"
      ]
    },
    {
      "cell_type": "code",
      "metadata": {
        "colab": {
          "base_uri": "https://localhost:8080/"
        },
        "id": "9oo8GgS6Szzi",
        "outputId": "92d49fa1-af7e-48e8-ef7b-5b00fa0e7bde"
      },
      "source": [
        "import pandas as pd\n",
        "import numpy as np\n",
        "from sklearn import preprocessing\n",
        "\n",
        "csv_data = pd.read_csv(\"https://storage.googleapis.com/dqlab-dataset/shopping_data.csv\")\n",
        "array = csv_data.values\n",
        "\n",
        "X = array[:,2:5] #memisahkan fitur dari dataset. \n",
        "Y = array[:,0:1]  #memisahkan class dari dataset\n",
        "\n",
        "dataset=pd.DataFrame({'Customer ID':array[:,0],'Gender':array[:,1],'Age':array[:,2],'Income':array[:,3],'Spending Score':array[:,4]})\n",
        "print(\"dataset sebelum dinormalisasi :\")\n",
        "print(dataset.head(10))\n",
        "\n",
        "min_max_scaler = preprocessing.MinMaxScaler(feature_range=(0,1)) #inisialisasi normalisasi MinMax\n",
        "data = min_max_scaler.fit_transform(X) #transformasi MinMax untuk fitur\n",
        "dataset = pd.DataFrame({'Age':data[:,0],'Income':data[:,1],'Spending Score':data[:,2],'Customer ID':array[:,0],'Gender':array[:,1]})\n",
        "\n",
        "print(\"dataset setelah dinormalisasi :\")\n",
        "print(dataset.head(10))"
      ],
      "execution_count": 11,
      "outputs": [
        {
          "output_type": "stream",
          "text": [
            "dataset sebelum dinormalisasi :\n",
            "  Customer ID  Gender Age Income Spending Score\n",
            "0           1    Male  19     15             39\n",
            "1           2    Male  21     15             81\n",
            "2           3  Female  20     16              6\n",
            "3           4  Female  23     16             77\n",
            "4           5  Female  31     17             40\n",
            "5           6  Female  22     17             76\n",
            "6           7  Female  35     18              6\n",
            "7           8  Female  23     18             94\n",
            "8           9    Male  64     19              3\n",
            "9          10  Female  30     19             72\n",
            "dataset setelah dinormalisasi :\n",
            "        Age    Income  Spending Score Customer ID  Gender\n",
            "0  0.019231  0.000000        0.387755           1    Male\n",
            "1  0.057692  0.000000        0.816327           2    Male\n",
            "2  0.038462  0.008197        0.051020           3  Female\n",
            "3  0.096154  0.008197        0.775510           4  Female\n",
            "4  0.250000  0.016393        0.397959           5  Female\n",
            "5  0.076923  0.016393        0.765306           6  Female\n",
            "6  0.326923  0.024590        0.051020           7  Female\n",
            "7  0.096154  0.024590        0.948980           8  Female\n",
            "8  0.884615  0.032787        0.020408           9    Male\n",
            "9  0.230769  0.032787        0.724490          10  Female\n"
          ],
          "name": "stdout"
        }
      ]
    },
    {
      "cell_type": "markdown",
      "metadata": {
        "id": "XeTxOztzT1Yd"
      },
      "source": [
        "\n",
        "\n",
        "---\n",
        "\n"
      ]
    }
  ]
}